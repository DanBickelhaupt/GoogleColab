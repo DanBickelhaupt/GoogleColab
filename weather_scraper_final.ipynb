{
  "cells": [
    {
      "cell_type": "code",
      "source": [
        "pip install meteostat"
      ],
      "metadata": {
        "id": "UnvykWvemVo0",
        "outputId": "e778fe8f-1d57-4a71-b30e-d1f49a45e78b",
        "colab": {
          "base_uri": "https://localhost:8080/"
        }
      },
      "execution_count": 1,
      "outputs": [
        {
          "output_type": "stream",
          "name": "stdout",
          "text": [
            "Looking in indexes: https://pypi.org/simple, https://us-python.pkg.dev/colab-wheels/public/simple/\n",
            "Collecting meteostat\n",
            "  Downloading meteostat-1.6.4-py3-none-any.whl (31 kB)\n",
            "Requirement already satisfied: pandas>=1.1 in /usr/local/lib/python3.7/dist-packages (from meteostat) (1.3.5)\n",
            "Requirement already satisfied: pytz in /usr/local/lib/python3.7/dist-packages (from meteostat) (2022.1)\n",
            "Requirement already satisfied: numpy in /usr/local/lib/python3.7/dist-packages (from meteostat) (1.21.6)\n",
            "Requirement already satisfied: python-dateutil>=2.7.3 in /usr/local/lib/python3.7/dist-packages (from pandas>=1.1->meteostat) (2.8.2)\n",
            "Requirement already satisfied: six>=1.5 in /usr/local/lib/python3.7/dist-packages (from python-dateutil>=2.7.3->pandas>=1.1->meteostat) (1.15.0)\n",
            "Installing collected packages: meteostat\n",
            "Successfully installed meteostat-1.6.4\n"
          ]
        }
      ]
    },
    {
      "cell_type": "markdown",
      "source": [
        "## API Test Code"
      ],
      "metadata": {
        "id": "meFAiuzXqSwo"
      }
    },
    {
      "cell_type": "code",
      "source": [
        "# https://dev.meteostat.net/python/\n",
        "\n",
        "# Import standard packages\n",
        "from datetime import datetime\n",
        "import matplotlib.pyplot as plt\n",
        "from datetime import datetime\n",
        "import pandas as pd\n",
        "\n",
        "# Import Meteostat library and dependencies\n",
        "from meteostat import Stations, Daily\n",
        "from meteostat import Hourly\n",
        "\n",
        "# ## Daily Data\n",
        "# # Set time period\n",
        "# start = datetime(2018, 1, 1)\n",
        "# end = datetime(2018, 12, 31)\n",
        "# # Get daily data\n",
        "# data = Daily('10637', start, end)\n",
        "# data = data.fetch()\n",
        "# print(data)\n",
        "# # Plot line chart including average, minimum and maximum temperature\n",
        "# data.plot(y=['tavg', 'tmin', 'tmax'])\n",
        "# plt.show()\n",
        "\n",
        "# Set time period\n",
        "start = datetime(2018, 1, 1)\n",
        "end = datetime(2018, 1, 3)\n",
        "#end = datetime(2018, 12, 31, 23, 59)\n",
        "\n",
        "# Get hourly data\n",
        "data = Hourly('72219', start, end)\n",
        "data = data.fetch()\n",
        "\n",
        "# Print DataFrame\n",
        "print(type(data))\n",
        "print(data)\n",
        "\n",
        "# Save csv to local working directory, then have to manually download the *.csv file from the left-hand pane.\n",
        "data.to_csv('test_data2.csv')\n",
        "\n",
        "# Take moving avg of humidity data\n",
        "data['rhum_avg'] = data['rhum'].rolling(60*3).mean()\n",
        "\n",
        "# Plot data\n",
        "data.plot(y=['temp','dwpt', 'rhum', 'rhum_avg'])\n",
        "plt.show()\n",
        "\n",
        "# Get station number\n",
        "stations = Stations()\n",
        "stations = stations.nearby(49.2497, -123.1193)\n",
        "station1 = stations.fetch(1)\n",
        "print(type(station1))\n",
        "print(station1.columns)\n",
        "print(station1['wmo'].iloc[0])\n",
        "print(station1)\n",
        "\n",
        "# Simplify data\n",
        "means = df.groupby(pd.Grouper(freq='1D')).mean()"
      ],
      "metadata": {
        "id": "FHjRIA5AmSIY",
        "outputId": "24588a87-adab-4862-c0ab-313774e4aa88",
        "colab": {
          "base_uri": "https://localhost:8080/",
          "height": 1000
        }
      },
      "execution_count": 32,
      "outputs": [
        {
          "output_type": "stream",
          "name": "stdout",
          "text": [
            "<class 'pandas.core.frame.DataFrame'>\n",
            "                     temp  dwpt  rhum  prcp  snow   wdir  wspd  wpgt    pres  \\\n",
            "time                                                                           \n",
            "2018-01-01 00:00:00   0.6  -5.6  63.0   NaN   NaN  340.0  18.4   NaN  1024.6   \n",
            "2018-01-01 01:00:00  -1.1  -6.6  66.0   0.0   NaN  320.0  16.6   NaN  1025.4   \n",
            "2018-01-01 02:00:00  -1.1  -9.5  53.0   0.0   NaN  330.0  22.3   NaN  1025.8   \n",
            "2018-01-01 03:00:00  -1.1 -10.0  51.0   0.0   NaN  330.0  25.9   NaN  1025.6   \n",
            "2018-01-01 04:00:00  -1.7 -10.5  51.0   0.0   NaN  340.0  18.4   NaN  1026.1   \n",
            "2018-01-01 05:00:00  -2.2 -10.5  53.0   0.0   NaN  330.0  25.9   NaN  1026.5   \n",
            "2018-01-01 06:00:00  -3.3 -11.8  52.0   0.0   NaN  340.0  24.1   NaN  1026.9   \n",
            "2018-01-01 07:00:00  -3.9 -12.8  50.0   0.0   NaN  320.0  27.7   NaN  1027.6   \n",
            "2018-01-01 08:00:00  -5.0 -13.8  50.0   0.0   NaN  330.0  25.9   NaN  1028.0   \n",
            "2018-01-01 09:00:00  -5.6 -14.4  50.0   0.0   NaN  330.0  22.3   NaN  1028.4   \n",
            "2018-01-01 10:00:00  -6.1 -14.4  52.0   0.0   NaN  330.0  27.7   NaN  1028.6   \n",
            "2018-01-01 11:00:00  -6.7 -14.9  52.0   0.0   NaN  340.0  20.5   NaN  1029.4   \n",
            "2018-01-01 12:00:00  -7.2 -14.9  54.0   0.0   NaN  330.0  20.5   NaN  1030.1   \n",
            "2018-01-01 13:00:00  -7.2 -14.5  56.0   0.0   NaN  340.0  25.9   NaN  1031.0   \n",
            "2018-01-01 14:00:00  -7.2 -14.5  56.0   0.0   NaN  330.0  24.1   NaN  1032.1   \n",
            "2018-01-01 15:00:00  -7.2 -14.5  56.0   NaN   NaN  320.0  24.1   NaN  1033.2   \n",
            "2018-01-01 16:00:00  -6.7 -13.8  57.0   NaN   NaN  340.0  18.4   NaN  1033.6   \n",
            "2018-01-01 17:00:00  -6.1 -13.9  54.0   0.0   NaN  320.0  22.3   NaN  1033.5   \n",
            "2018-01-01 18:00:00  -5.0 -13.3  52.0   0.0   NaN  330.0  20.5   NaN  1032.6   \n",
            "2018-01-01 19:00:00  -3.9 -12.8  50.0   0.0   NaN  340.0  18.4   NaN  1032.5   \n",
            "2018-01-01 20:00:00  -2.2 -11.7  48.0   0.0   NaN  340.0  14.8   NaN  1032.2   \n",
            "2018-01-01 21:00:00  -2.2 -11.7  48.0   0.0   NaN  310.0  18.4   NaN  1032.6   \n",
            "2018-01-01 22:00:00  -2.8 -12.3  48.0   0.0   NaN  320.0  20.5   NaN  1032.9   \n",
            "2018-01-01 23:00:00  -3.9 -13.3  48.0   0.0   NaN  330.0  18.4   NaN  1033.3   \n",
            "2018-01-02 00:00:00  -4.4 -13.3  50.0   0.0   NaN  330.0  22.3   NaN  1033.9   \n",
            "2018-01-02 01:00:00  -5.6 -13.2  55.0   0.0   NaN  330.0  20.5   NaN  1034.3   \n",
            "2018-01-02 02:00:00  -6.1 -13.9  54.0   0.0   NaN  340.0  20.5   NaN  1034.4   \n",
            "2018-01-02 03:00:00  -6.7 -14.5  54.0   0.0   NaN  340.0  18.4   NaN  1034.4   \n",
            "2018-01-02 04:00:00  -7.2 -14.5  56.0   0.0   NaN  330.0  14.8   NaN  1034.6   \n",
            "2018-01-02 05:00:00  -7.8 -13.8  62.0   0.0   NaN  340.0  16.6   NaN  1034.8   \n",
            "2018-01-02 06:00:00  -7.8 -14.4  59.0   0.0   NaN  340.0  16.6   NaN  1034.5   \n",
            "2018-01-02 07:00:00  -8.3 -14.5  61.0   0.0   NaN  340.0  14.8   NaN  1034.6   \n",
            "2018-01-02 08:00:00  -8.9 -14.5  64.0   0.0   NaN  340.0  11.2   NaN  1034.8   \n",
            "2018-01-02 09:00:00  -9.4 -13.9  70.0   0.0   NaN  330.0   9.4   NaN  1035.1   \n",
            "2018-01-02 10:00:00  -9.4 -14.4  67.0   0.0   NaN  340.0  11.2   NaN  1035.2   \n",
            "2018-01-02 11:00:00 -10.0 -13.9  73.0   0.0   NaN  330.0  11.2   NaN  1035.4   \n",
            "2018-01-02 12:00:00 -10.6 -13.9  77.0   0.0   NaN  330.0  13.0   NaN  1035.8   \n",
            "2018-01-02 13:00:00 -10.6 -13.9  77.0   0.0   NaN  340.0  13.0   NaN  1036.6   \n",
            "2018-01-02 14:00:00  -8.3 -13.3  67.0   0.0   NaN  350.0  11.2   NaN  1036.8   \n",
            "2018-01-02 15:00:00  -6.1 -13.2  57.0   0.0   NaN   50.0  11.2   NaN  1036.9   \n",
            "2018-01-02 16:00:00  -3.9 -12.8  50.0   0.0   NaN   90.0   9.4   NaN  1036.4   \n",
            "2018-01-02 17:00:00  -1.7 -13.2  41.0   0.0   NaN   10.0   9.4   NaN  1035.4   \n",
            "2018-01-02 18:00:00  -0.6 -13.9  36.0   0.0   NaN  100.0   5.4   NaN  1033.9   \n",
            "2018-01-02 19:00:00   0.6 -14.2  32.0   0.0   NaN  260.0   5.4   NaN  1032.6   \n",
            "2018-01-02 20:00:00   1.7 -14.5  29.0   0.0   NaN   90.0   0.0   NaN  1032.1   \n",
            "2018-01-02 21:00:00   1.7 -15.8  26.0   0.0   NaN   90.0   7.6   NaN  1031.6   \n",
            "2018-01-02 22:00:00   1.7 -15.8  26.0   0.0   NaN   60.0   0.0   NaN  1031.1   \n",
            "2018-01-02 23:00:00   0.6 -15.4  29.0   0.0   NaN   60.0   9.4   NaN  1030.6   \n",
            "2018-01-03 00:00:00   0.0 -15.9  29.0   0.0   NaN   70.0  13.0   NaN  1030.0   \n",
            "\n",
            "                     tsun  coco  \n",
            "time                             \n",
            "2018-01-01 00:00:00   NaN   NaN  \n",
            "2018-01-01 01:00:00   NaN   NaN  \n",
            "2018-01-01 02:00:00   NaN   NaN  \n",
            "2018-01-01 03:00:00   NaN   NaN  \n",
            "2018-01-01 04:00:00   NaN   NaN  \n",
            "2018-01-01 05:00:00   NaN   NaN  \n",
            "2018-01-01 06:00:00   NaN   NaN  \n",
            "2018-01-01 07:00:00   NaN   NaN  \n",
            "2018-01-01 08:00:00   NaN   NaN  \n",
            "2018-01-01 09:00:00   NaN   NaN  \n",
            "2018-01-01 10:00:00   NaN   NaN  \n",
            "2018-01-01 11:00:00   NaN   NaN  \n",
            "2018-01-01 12:00:00   NaN   NaN  \n",
            "2018-01-01 13:00:00   NaN   NaN  \n",
            "2018-01-01 14:00:00   NaN   NaN  \n",
            "2018-01-01 15:00:00   NaN   NaN  \n",
            "2018-01-01 16:00:00   NaN   NaN  \n",
            "2018-01-01 17:00:00   NaN   NaN  \n",
            "2018-01-01 18:00:00   NaN   NaN  \n",
            "2018-01-01 19:00:00   NaN   NaN  \n",
            "2018-01-01 20:00:00   NaN   NaN  \n",
            "2018-01-01 21:00:00   NaN   NaN  \n",
            "2018-01-01 22:00:00   NaN   NaN  \n",
            "2018-01-01 23:00:00   NaN   NaN  \n",
            "2018-01-02 00:00:00   NaN   NaN  \n",
            "2018-01-02 01:00:00   NaN   NaN  \n",
            "2018-01-02 02:00:00   NaN   NaN  \n",
            "2018-01-02 03:00:00   NaN   NaN  \n",
            "2018-01-02 04:00:00   NaN   NaN  \n",
            "2018-01-02 05:00:00   NaN   NaN  \n",
            "2018-01-02 06:00:00   NaN   NaN  \n",
            "2018-01-02 07:00:00   NaN   NaN  \n",
            "2018-01-02 08:00:00   NaN   NaN  \n",
            "2018-01-02 09:00:00   NaN   NaN  \n",
            "2018-01-02 10:00:00   NaN   NaN  \n",
            "2018-01-02 11:00:00   NaN   NaN  \n",
            "2018-01-02 12:00:00   NaN   NaN  \n",
            "2018-01-02 13:00:00   NaN   NaN  \n",
            "2018-01-02 14:00:00   NaN   NaN  \n",
            "2018-01-02 15:00:00   NaN   NaN  \n",
            "2018-01-02 16:00:00   NaN   NaN  \n",
            "2018-01-02 17:00:00   NaN   NaN  \n",
            "2018-01-02 18:00:00   NaN   NaN  \n",
            "2018-01-02 19:00:00   NaN   NaN  \n",
            "2018-01-02 20:00:00   NaN   NaN  \n",
            "2018-01-02 21:00:00   NaN   NaN  \n",
            "2018-01-02 22:00:00   NaN   NaN  \n",
            "2018-01-02 23:00:00   NaN   NaN  \n",
            "2018-01-03 00:00:00   NaN   NaN  \n"
          ]
        },
        {
          "output_type": "display_data",
          "data": {
            "text/plain": [
              "<Figure size 432x288 with 1 Axes>"
            ],
            "image/png": "[encoded data removed]"
          },
          "metadata": {
            "needs_background": "light"
          }
        },
        {
          "output_type": "stream",
          "name": "stdout",
          "text": [
            "<class 'pandas.core.frame.DataFrame'>\n",
            "Index(['name', 'country', 'region', 'wmo', 'icao', 'latitude', 'longitude',\n",
            "       'elevation', 'timezone', 'hourly_start', 'hourly_end', 'daily_start',\n",
            "       'daily_end', 'monthly_start', 'monthly_end', 'distance'],\n",
            "      dtype='object')\n",
            "71201\n",
            "                       name country region    wmo  icao  latitude  longitude  \\\n",
            "id                                                                             \n",
            "71201  Vancouver Harbour CS      CA     BC  71201  CWHC      49.3    -123.12   \n",
            "\n",
            "       elevation           timezone hourly_start hourly_end daily_start  \\\n",
            "id                                                                        \n",
            "71201        2.0  America/Vancouver   1980-03-01 2022-08-12  1925-11-01   \n",
            "\n",
            "       daily_end monthly_start monthly_end     distance  \n",
            "id                                                       \n",
            "71201 2022-08-09    1925-01-01  2022-01-01  5593.335349  \n"
          ]
        }
      ]
    },
    {
      "cell_type": "code",
      "source": [
        "loc1 = {'lat': 40.78, 'lon': -73.10}"
      ],
      "metadata": {
        "id": "cHvvcoaG2hTi"
      },
      "execution_count": 18,
      "outputs": []
    }
  ],
  "metadata": {
    "colab": {
      "name": "weather_scraper.ipynb",
      "provenance": []
    },
    "language_info": {
      "name": "python"
    },
    "kernelspec": {
      "name": "python3",
      "display_name": "Python 3"
    },
    "gpuClass": "standard"
  },
  "nbformat": 4,
  "nbformat_minor": 0
}