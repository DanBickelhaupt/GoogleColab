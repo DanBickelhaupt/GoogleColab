{
  "cells": [
    {
      "cell_type": "code",
      "source": [
        "pip install meteostat"
      ],
      "metadata": {
        "id": "UnvykWvemVo0",
        "outputId": "e778fe8f-1d57-4a71-b30e-d1f49a45e78b",
        "colab": {
          "base_uri": "https://localhost:8080/"
        }
      },
      "execution_count": 1,
      "outputs": [
        {
          "output_type": "stream",
          "name": "stdout",
          "text": [
            "Looking in indexes: https://pypi.org/simple, https://us-python.pkg.dev/colab-wheels/public/simple/\n",
            "Collecting meteostat\n",
            "  Downloading meteostat-1.6.4-py3-none-any.whl (31 kB)\n",
            "Requirement already satisfied: pandas>=1.1 in /usr/local/lib/python3.7/dist-packages (from meteostat) (1.3.5)\n",
            "Requirement already satisfied: pytz in /usr/local/lib/python3.7/dist-packages (from meteostat) (2022.1)\n",
            "Requirement already satisfied: numpy in /usr/local/lib/python3.7/dist-packages (from meteostat) (1.21.6)\n",
            "Requirement already satisfied: python-dateutil>=2.7.3 in /usr/local/lib/python3.7/dist-packages (from pandas>=1.1->meteostat) (2.8.2)\n",
            "Requirement already satisfied: six>=1.5 in /usr/local/lib/python3.7/dist-packages (from python-dateutil>=2.7.3->pandas>=1.1->meteostat) (1.15.0)\n",
            "Installing collected packages: meteostat\n",
            "Successfully installed meteostat-1.6.4\n"
          ]
        }
      ]
    },
    {
      "cell_type": "markdown",
      "source": [
        "## API Test Code"
      ],
      "metadata": {
        "id": "meFAiuzXqSwo"
      }
    },
    {
      "cell_type": "code",
      "source": [
        "# https://dev.meteostat.net/python/\n",
        "\n",
        "# Import standard packages\n",
        "from datetime import datetime\n",
        "import matplotlib.pyplot as plt\n",
        "from datetime import datetime\n",
        "import pandas as pd\n",
        "\n",
        "# Import Meteostat library and dependencies\n",
        "from meteostat import Stations, Daily\n",
        "from meteostat import Hourly\n",
        "\n",
        "# ## Daily Data\n",
        "# # Set time period\n",
        "# start = datetime(2018, 1, 1)\n",
        "# end = datetime(2018, 12, 31)\n",
        "# # Get daily data\n",
        "# data = Daily('10637', start, end)\n",
        "# data = data.fetch()\n",
        "# print(data)\n",
        "# # Plot line chart including average, minimum and maximum temperature\n",
        "# data.plot(y=['tavg', 'tmin', 'tmax'])\n",
        "# plt.show()\n",
        "\n",
        "# Set time period\n",
        "start = datetime(2018, 1, 1)\n",
        "end = datetime(2018, 1, 3)\n",
        "#end = datetime(2018, 12, 31, 23, 59)\n",
        "\n",
        "# Get hourly data\n",
        "data = Hourly('72219', start, end)\n",
        "data = data.fetch()\n",
        "\n",
        "# Print DataFrame\n",
        "print(type(data))\n",
        "print(data.head())\n",
        "\n",
        "# Save csv to local working directory, then have to manually download the *.csv file from the left-hand pane.\n",
        "data.to_csv('test_data2.csv')\n",
        "\n",
        "# Take moving avg of humidity data\n",
        "data['rhum_avg'] = data['rhum'].rolling(60*3).mean()\n",
        "\n",
        "# Plot data\n",
        "data.plot(y=['temp','dwpt', 'rhum', 'rhum_avg'])\n",
        "plt.show()\n",
        "\n",
        "# Get station number\n",
        "stations = Stations()\n",
        "stations = stations.nearby(49.2497, -123.1193)\n",
        "station1 = stations.fetch(1)\n",
        "print(type(station1))\n",
        "print(station1.columns)\n",
        "station_id = station1['wmo'].iloc[0]\n",
        "print(type(station_id))\n",
        "print(station_id)\n",
        "#print(station1)\n",
        "\n",
        "# Get data from station number\n",
        "data = Hourly(station_id, start, end)\n",
        "data = data.fetch()\n",
        "\n",
        "# Simplify data\n",
        "keep_cols = ['temp','dwpt', 'rhum', 'pres']\n",
        "means = data[keep_cols].groupby(pd.Grouper(freq='1D')).mean()\n",
        "means = means.add_suffix('_mean')\n",
        "maxs = data[keep_cols].groupby(pd.Grouper(freq='1D')).max()\n",
        "maxs = maxs.add_suffix('_max')\n",
        "mins = data[keep_cols].groupby(pd.Grouper(freq='1D')).min()\n",
        "mins = mins.add_suffix('_min')\n",
        "final = pd.concat([means, mins, maxs], axis=1)\n",
        "final = final.iloc[:-1,:] # need to drop last row (last date in table is one datapoint for that date)\n",
        "print(final.head())"
      ],
      "metadata": {
        "id": "FHjRIA5AmSIY",
        "outputId": "df427c36-7646-4757-e015-b348b81abd76",
        "colab": {
          "base_uri": "https://localhost:8080/",
          "height": 858
        }
      },
      "execution_count": 1,
      "outputs": [
        {
          "output_type": "stream",
          "name": "stdout",
          "text": [
            "<class 'pandas.core.frame.DataFrame'>\n",
            "                     temp  dwpt  rhum  prcp  snow   wdir  wspd  wpgt    pres  \\\n",
            "time                                                                           \n",
            "2018-01-01 00:00:00   0.6  -5.6  63.0   NaN   NaN  340.0  18.4   NaN  1024.6   \n",
            "2018-01-01 01:00:00  -1.1  -6.6  66.0   0.0   NaN  320.0  16.6   NaN  1025.4   \n",
            "2018-01-01 02:00:00  -1.1  -9.5  53.0   0.0   NaN  330.0  22.3   NaN  1025.8   \n",
            "2018-01-01 03:00:00  -1.1 -10.0  51.0   0.0   NaN  330.0  25.9   NaN  1025.6   \n",
            "2018-01-01 04:00:00  -1.7 -10.5  51.0   0.0   NaN  340.0  18.4   NaN  1026.1   \n",
            "\n",
            "                     tsun  coco  \n",
            "time                             \n",
            "2018-01-01 00:00:00   NaN   NaN  \n",
            "2018-01-01 01:00:00   NaN   NaN  \n",
            "2018-01-01 02:00:00   NaN   NaN  \n",
            "2018-01-01 03:00:00   NaN   NaN  \n",
            "2018-01-01 04:00:00   NaN   NaN  \n"
          ]
        },
        {
          "output_type": "display_data",
          "data": {
            "text/plain": [
              "<Figure size 432x288 with 1 Axes>"
            ],
            "image/png": "[encoded data removed]"
          },
          "metadata": {
            "needs_background": "light"
          }
        },
        {
          "output_type": "stream",
          "name": "stdout",
          "text": [
            "<class 'pandas.core.frame.DataFrame'>\n",
            "Index(['name', 'country', 'region', 'wmo', 'icao', 'latitude', 'longitude',\n",
            "       'elevation', 'timezone', 'hourly_start', 'hourly_end', 'daily_start',\n",
            "       'daily_end', 'monthly_start', 'monthly_end', 'distance'],\n",
            "      dtype='object')\n",
            "<class 'str'>\n",
            "71201\n",
            "            temp_mean  dwpt_mean  rhum_mean  pres_mean  temp_min  dwpt_min  \\\n",
            "time                                                                         \n",
            "2018-01-01   1.404167   0.354167     93.000        NaN       0.0      -0.8   \n",
            "2018-01-02   1.691667   1.216667     96.625        NaN       0.0      -0.1   \n",
            "\n",
            "            rhum_min  pres_min  temp_max  dwpt_max  rhum_max  pres_max  \n",
            "time                                                                    \n",
            "2018-01-01      77.0       NaN       3.9       1.9      99.0       NaN  \n",
            "2018-01-02      87.0       NaN       3.8       3.3      99.0       NaN  \n"
          ]
        }
      ]
    },
    {
      "cell_type": "markdown",
      "source": [
        "## Functions"
      ],
      "metadata": {
        "id": "w6h6LK_QWLar"
      }
    },
    {
      "cell_type": "code",
      "source": [
        "def get_station(lat, lon, start, end, verbose=False):\n",
        "  stations = Stations()\n",
        "  stations = stations.nearby(lat, lon)\n",
        "  i = 0\n",
        "  find_flag = False\n",
        "  while find_flag == False:\n",
        "    current_station = stations.fetch().iloc[i,:]\n",
        "    delta = (current_station['hourly_end'] - end).days\n",
        "    if abs(delta) < 30: find_flag = True\n",
        "    i+=1\n",
        "  station_id = stations.fetch().index[i-1]\n",
        "  station_out = current_station\n",
        "  if verbose: print('Station selected: Name={}, WMO={}, ({:0.2f}, {:0.2f})'.format(station_out['name'], station_out['wmo'], station_out['latitude'], station_out['longitude']))\n",
        "  return station_id\n",
        "\n",
        "def get_weather(lat, lon, start, end, verbose=False):\n",
        "  id = get_station(lat, lon, start, end, verbose)\n",
        "  data = Hourly(id, start, end)\n",
        "  data = data.fetch()\n",
        "  return data\n",
        "\n",
        "def summarize_data(df_in):\n",
        "  keep_cols = ['temp','dwpt', 'rhum', 'pres']\n",
        "  means = df_in[keep_cols].groupby(pd.Grouper(freq='1D')).mean()\n",
        "  means = means.add_suffix('_mean')\n",
        "  maxs = df_in[keep_cols].groupby(pd.Grouper(freq='1D')).max()\n",
        "  maxs = maxs.add_suffix('_max')\n",
        "  mins = df_in[keep_cols].groupby(pd.Grouper(freq='1D')).min()\n",
        "  mins = mins.add_suffix('_min')\n",
        "  final = pd.concat([means, mins, maxs], axis=1)\n",
        "  final = final.iloc[:-1,:] # need to drop last row (last date in table is one datapoint for that date)\n",
        "  return final"
      ],
      "metadata": {
        "id": "9_skpl-1VTIS"
      },
      "execution_count": 14,
      "outputs": []
    },
    {
      "cell_type": "markdown",
      "source": [
        "## Code to Test Functions & Get Right Weather Stations"
      ],
      "metadata": {
        "id": "nXGwBVaFy7Os"
      }
    },
    {
      "cell_type": "code",
      "source": [
        "loc2 = {'lat': 40.78, 'lon': -73.10} #{'lat': 17.96, 'lon': -66.40}\n",
        "start = datetime(2022, 4, 1)\n",
        "end = datetime(2022, 8, 14)\n",
        "lat = loc2['lat']\n",
        "lon = loc2['lon']\n",
        "stations = Stations()\n",
        "stations = stations.nearby(lat, lon)\n",
        "print(stations.fetch()[:10])\n",
        "\n",
        "# print(stations.fetch().index)\n",
        "# id = stations.fetch().index[1]\n",
        "# print(id)\n",
        "# data = Hourly(id, start, end)\n",
        "# data = data.fetch()\n",
        "# print(data)\n",
        "\n",
        "print('-'*100)\n",
        "\n",
        "# i=1\n",
        "# stations = Stations()\n",
        "# stations = stations.nearby(lat, lon)\n",
        "# current_station = stations.fetch().iloc[i,:]\n",
        "# print(current_station)\n",
        "# delta = (current_station['hourly_end'] - end).days\n",
        "# print(delta)\n",
        "\n",
        "station = get_station(lat, lon, start, end, True)\n",
        "print()\n",
        "print(station)\n",
        "data = Hourly(station, start, end)\n",
        "data = data.fetch()\n",
        "print(data)\n",
        "# print(type(stations.fetch(1)['hourly_end'].iloc[0]))\n",
        "# print((stations.fetch(1)['hourly_end'].iloc[0] - end).days)\n",
        "\n",
        "# station = get_station(loc['lat'], loc['lon'], True)\n",
        "# data = Hourly(station, start, end)\n",
        "# data = data.fetch()\n",
        "# print(data)\n",
        "# data.plot(y=['temp','dwpt', 'rhum'])\n",
        "# plt.show()"
      ],
      "metadata": {
        "id": "qtqsOKVyiI44",
        "outputId": "0a14d672-2cce-411e-cd44-f3535e0a51af",
        "colab": {
          "base_uri": "https://localhost:8080/"
        }
      },
      "execution_count": 16,
      "outputs": [
        {
          "output_type": "stream",
          "name": "stdout",
          "text": [
            "                                      name country region    wmo  icao  \\\n",
            "id                                                                       \n",
            "72505                     Islip / Lakeland      US     NY  72505  KISP   \n",
            "72503                    LaGuardia Airport      US     NY  72503  KLGA   \n",
            "KHWV0                              Shirley      US     NY   <NA>  KHWV   \n",
            "KFRG0       Farmingdale / East Farmingdale      US     NY   <NA>  KFRG   \n",
            "KFOK0    Westhampton Beach / Suffolk Pines      US     NY   <NA>  KFOK   \n",
            "72504            Sikorsky Memorial Airport      US     CT  72504  KBDR   \n",
            "KHVN0              New Haven / Morris Cove      US     CT   <NA>  KHVN   \n",
            "74486              John F. Kennedy Airport      US     NY  74486  KJFK   \n",
            "KHPN0  White Plains / Sarosca Farm Estates      US     NY   <NA>  KHPN   \n",
            "KDXR0                 Danbury / Miry Brook      US     CT   <NA>  KDXR   \n",
            "\n",
            "       latitude  longitude  elevation          timezone hourly_start  \\\n",
            "id                                                                     \n",
            "72505   40.7953   -73.1002       30.0  America/New_York   1973-01-01   \n",
            "72503   40.7833   -73.0500        7.0  America/New_York   1973-01-01   \n",
            "KHWV0   40.8219   -72.8669       25.0  America/New_York   2006-01-01   \n",
            "KFRG0   40.7288   -73.4134       24.0  America/New_York   2006-01-01   \n",
            "KFOK0   40.8437   -72.6318       20.0  America/New_York   1943-07-18   \n",
            "72504   41.1667   -73.1333        3.0  America/New_York   1942-12-08   \n",
            "KHVN0   41.2638   -72.8868        4.0  America/New_York   1973-01-01   \n",
            "74486   40.6333   -73.7667        4.0  America/New_York   1973-01-01   \n",
            "KHPN0   41.0669   -73.7076      134.0  America/New_York   1973-01-01   \n",
            "KDXR0   41.3715   -73.4822      139.0  America/New_York   2006-01-01   \n",
            "\n",
            "      hourly_end daily_start  daily_end monthly_start monthly_end  \\\n",
            "id                                                                  \n",
            "72505 2022-08-13  1963-09-05 2022-08-04    1963-01-01  2022-01-01   \n",
            "72503 2022-08-13  1939-10-07 2022-08-04    1939-01-01  2022-01-01   \n",
            "KHWV0 2022-08-13  2006-01-01 2022-04-24    2006-01-01  2022-01-01   \n",
            "KFRG0 2022-08-13  2006-01-01 2022-04-24    2006-01-01  2022-01-01   \n",
            "KFOK0 2022-08-13  1943-09-08 2022-04-24    1943-01-01  2021-01-01   \n",
            "72504 2022-08-13  1942-12-08 2022-08-06    1943-01-01  2022-01-01   \n",
            "KHVN0 2022-08-13  2004-01-01 2022-04-24    2005-01-01  2021-01-01   \n",
            "74486 2022-08-13  1948-07-17 2022-08-04    1948-01-01  2022-01-01   \n",
            "KHPN0 2022-08-13  1973-01-02 2022-04-24    1974-01-01  2021-01-01   \n",
            "KDXR0 2022-08-13  2006-01-01 2022-04-24    2006-01-01  2021-01-01   \n",
            "\n",
            "           distance  \n",
            "id                   \n",
            "72505   1701.365700  \n",
            "72503   4225.825327  \n",
            "KHWV0  20166.252593  \n",
            "KFRG0  27005.165277  \n",
            "KFOK0  40034.750539  \n",
            "72504  43089.863618  \n",
            "KHVN0  56691.405141  \n",
            "74486  58517.068250  \n",
            "KHPN0  60197.072272  \n",
            "KDXR0  73159.317703  \n",
            "----------------------------------------------------------------------------------------------------\n",
            "Station selected: Name=Islip / Lakeland, WMO=72505, (40.80, -73.10)\n",
            "\n",
            "72505\n",
            "                     temp  dwpt   rhum  prcp  snow   wdir  wspd  wpgt    pres  \\\n",
            "time                                                                            \n",
            "2022-04-01 00:00:00  13.0  12.4   96.0   0.2   NaN  190.0  26.0   NaN  1001.0   \n",
            "2022-04-01 01:00:00  13.0  12.4   96.0   0.0   NaN  190.0  35.0   NaN  1001.0   \n",
            "2022-04-01 02:00:00  13.0  13.0  100.0   5.3   NaN  220.0  33.0   NaN  1000.0   \n",
            "2022-04-01 03:00:00  13.0  13.0  100.0   1.7   NaN  210.0  37.0   NaN  1000.0   \n",
            "2022-04-01 04:00:00  14.0  14.0  100.0   0.2   NaN  210.0  43.0   NaN   999.0   \n",
            "...                   ...   ...    ...   ...   ...    ...   ...   ...     ...   \n",
            "2022-08-13 20:00:00  26.0   8.9   34.0   0.0   NaN   40.0  19.0   NaN  1017.0   \n",
            "2022-08-13 21:00:00  26.0   8.5   33.0   0.0   NaN   40.0  13.0   NaN  1017.0   \n",
            "2022-08-13 22:00:00  25.0   8.5   35.0   0.0   NaN   20.0  13.0   NaN  1017.0   \n",
            "2022-08-13 23:00:00  23.0   8.7   40.0   0.0   NaN  188.0   8.3   NaN  1018.0   \n",
            "2022-08-14 00:00:00  21.0   9.9   49.0   0.0   NaN  199.0  11.5   NaN  1018.0   \n",
            "\n",
            "                     tsun  coco  \n",
            "time                             \n",
            "2022-04-01 00:00:00   NaN   5.0  \n",
            "2022-04-01 01:00:00   NaN   5.0  \n",
            "2022-04-01 02:00:00   NaN   5.0  \n",
            "2022-04-01 03:00:00   NaN   5.0  \n",
            "2022-04-01 04:00:00   NaN   5.0  \n",
            "...                   ...   ...  \n",
            "2022-08-13 20:00:00   NaN   1.0  \n",
            "2022-08-13 21:00:00   NaN   3.0  \n",
            "2022-08-13 22:00:00   NaN   3.0  \n",
            "2022-08-13 23:00:00   NaN   3.0  \n",
            "2022-08-14 00:00:00   NaN   3.0  \n",
            "\n",
            "[3241 rows x 11 columns]\n"
          ]
        },
        {
          "output_type": "stream",
          "name": "stderr",
          "text": [
            "Warning: Cannot load hourly/2023/72505.csv.gz from https://bulk.meteostat.net/v2/\n"
          ]
        }
      ]
    },
    {
      "cell_type": "markdown",
      "source": [
        "## Production"
      ],
      "metadata": {
        "id": "fBvEiXD-zAIQ"
      }
    },
    {
      "cell_type": "code",
      "source": [
        "loc1 = {'lat': 40.78, 'lon': -73.10}\n",
        "start1 = datetime(2021, 12, 1)\n",
        "end1 = datetime(2022, 8, 14)\n",
        "data_raw = get_weather(loc1['lat'], loc1['lon'], start1, end1, True)\n",
        "data_out1 = summarize_data(data_raw)\n",
        "print(data_out1)\n",
        "\n",
        "print('\\n\\n\\n')\n",
        "\n",
        "loc2 = {'lat': 17.96, 'lon': -66.40}\n",
        "start2 = datetime(2022, 4, 1)\n",
        "end2 = datetime(2022, 8, 14)\n",
        "data_raw = get_weather(loc2['lat'], loc2['lon'], start2, end2, True)\n",
        "data_out2 = summarize_data(data_raw)\n",
        "print(data_out2)"
      ],
      "metadata": {
        "colab": {
          "base_uri": "https://localhost:8080/"
        },
        "id": "cHvvcoaG2hTi",
        "outputId": "ed9a1350-3365-4f34-c1c1-7970801c2c02"
      },
      "execution_count": 18,
      "outputs": [
        {
          "output_type": "stream",
          "name": "stdout",
          "text": [
            "Station selected: Name=Islip / Lakeland, WMO=72505, (40.80, -73.10)\n",
            "            temp_mean  dwpt_mean  rhum_mean    pres_mean  temp_min  dwpt_min  \\\n",
            "time                                                                           \n",
            "2021-12-01   5.041667  -2.254167  60.958333  1018.458333       2.0      -4.6   \n",
            "2021-12-02   9.750000   6.016667  77.791667  1011.375000       4.0      -1.0   \n",
            "2021-12-03   7.666667  -1.675000  52.375000  1009.041667       3.0      -6.0   \n",
            "2021-12-04   3.541667  -3.608333  60.125000  1019.333333       1.0      -5.9   \n",
            "2021-12-05   4.666667  -3.945833  56.750000  1025.916667      -1.0      -8.6   \n",
            "...               ...        ...        ...          ...       ...       ...   \n",
            "2022-08-09  28.475000  23.458333  75.666667  1012.887500      24.0      22.2   \n",
            "2022-08-10  26.275000  20.908333  73.333333  1015.962500      23.9      17.8   \n",
            "2022-08-11  25.237500  21.295833  80.416667  1012.912500      22.4      16.8   \n",
            "2022-08-12  24.779167  13.750000  55.250000  1014.016667      21.7       4.9   \n",
            "2022-08-13  22.166667   9.862500  47.083333  1017.679167      17.8       7.1   \n",
            "\n",
            "            rhum_min  pres_min  temp_max  dwpt_max  rhum_max  pres_max  \n",
            "time                                                                    \n",
            "2021-12-01      37.0    1014.0      10.0      -0.5      78.0    1022.0  \n",
            "2021-12-02      67.0    1002.0      14.0       9.2      96.0    1021.0  \n",
            "2021-12-03      40.0    1000.0      13.0       8.7      80.0    1017.0  \n",
            "2021-12-04      47.0    1018.0       7.0       0.3      76.0    1021.0  \n",
            "2021-12-05      28.0    1020.0       9.0       0.7      85.0    1030.0  \n",
            "...              ...       ...       ...       ...       ...       ...  \n",
            "2022-08-09      55.0    1012.0      34.0      24.9      94.0    1014.0  \n",
            "2022-08-10      50.0    1014.0      29.4      25.2      90.0    1018.0  \n",
            "2022-08-11      45.0    1011.0      30.0      23.0      97.0    1016.0  \n",
            "2022-08-12      23.0    1011.9      28.3      21.7      91.0    1016.0  \n",
            "2022-08-13      30.0    1016.1      26.0      12.8      70.0    1019.0  \n",
            "\n",
            "[256 rows x 12 columns]\n",
            "\n",
            "\n",
            "\n",
            "\n",
            "Station selected: Name=San Juan / Puerta de Tierra, WMO=<NA>, (18.46, -66.10)\n",
            "            temp_mean  dwpt_mean  rhum_mean    pres_mean  temp_min  dwpt_min  \\\n",
            "time                                                                           \n",
            "2022-04-01  25.579167  20.625000  74.458333  1017.229167      22.9      18.7   \n",
            "2022-04-02  25.208333  21.254167  79.041667  1017.008333      22.9      19.7   \n",
            "2022-04-03  25.979167  20.379167  72.666667  1015.175000      22.7      18.2   \n",
            "2022-04-04  25.700000  20.641667  74.666667  1014.666667      22.2      19.1   \n",
            "2022-04-05  25.616667  21.179167  77.208333  1015.420833      21.7      19.1   \n",
            "...               ...        ...        ...          ...       ...       ...   \n",
            "2022-08-09  28.320833  23.683333  76.250000  1016.358333      26.1      22.2   \n",
            "2022-08-10  28.070833  23.620833  77.416667  1016.737500      25.0      20.9   \n",
            "2022-08-11  27.954167  23.466667  76.958333  1016.058333      25.5      21.0   \n",
            "2022-08-12  28.137500  22.437500  71.458333  1015.904167      25.5      19.7   \n",
            "2022-08-13  27.845833  22.850000  74.750000  1015.975000      25.4      21.0   \n",
            "\n",
            "            rhum_min  pres_min  temp_max  dwpt_max  rhum_max  pres_max  \n",
            "time                                                                    \n",
            "2022-04-01      66.0    1015.9      28.0      22.0      89.0    1019.0  \n",
            "2022-04-02      70.0    1015.0      28.0      22.9      89.0    1019.0  \n",
            "2022-04-03      52.0    1013.0      29.0      22.0      91.0    1016.6  \n",
            "2022-04-04      52.0    1013.0      30.0      22.0      90.0    1017.0  \n",
            "2022-04-05      62.0    1014.0      29.0      22.0      93.0    1017.0  \n",
            "...              ...       ...       ...       ...       ...       ...  \n",
            "2022-08-09      65.0    1015.0      31.0      25.1      88.0    1018.0  \n",
            "2022-08-10      64.0    1015.6      31.0      25.1      95.0    1018.0  \n",
            "2022-08-11      65.0    1014.7      31.0      25.0      88.0    1017.4  \n",
            "2022-08-12      44.0    1014.8      33.6      24.1      83.0    1017.0  \n",
            "2022-08-13      54.0    1014.6      31.4      24.1      88.0    1018.0  \n",
            "\n",
            "[135 rows x 12 columns]\n"
          ]
        }
      ]
    }
  ],
  "metadata": {
    "colab": {
      "name": "weather_scraper.ipynb",
      "provenance": []
    },
    "language_info": {
      "name": "python"
    },
    "kernelspec": {
      "name": "python3",
      "display_name": "Python 3"
    },
    "gpuClass": "standard"
  },
  "nbformat": 4,
  "nbformat_minor": 0
}