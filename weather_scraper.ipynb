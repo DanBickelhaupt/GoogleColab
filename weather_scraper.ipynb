{
 "cells": [
  {
   "cell_type": "code",
   "execution_count": null,
   "metadata": {},
   "outputs": [],
   "source": [
    "import requests\n",
    "url = 'https://companiesmarketcap.com/apple/marketcap/'\n",
    "page = requests.get(url)  "
   ]
  }
 ],
 "metadata": {},
 "nbformat": 4,
 "nbformat_minor": 4
}
