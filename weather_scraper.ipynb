{
  "cells": [
    {
      "cell_type": "code",
      "execution_count": 2,
      "metadata": {
        "id": "innbujSh4rcm",
        "outputId": "6bed55be-ee79-4b7a-c370-179155755c05",
        "colab": {
          "base_uri": "https://localhost:8080/"
        }
      },
      "outputs": [
        {
          "output_type": "stream",
          "name": "stdout",
          "text": [
            "<Response [200]>\n"
          ]
        }
      ],
      "source": [
        "# NOAA API V2\n",
        "# Documentation can be found at\n",
        "# http://www.ncdc.noaa.gov/cdo-web/webservices/v2\n",
        "import requests\n",
        "class NOAAData(object):\n",
        "    def __init__(self, token):\n",
        "        # NOAA API Endpoint\n",
        "        self.url = 'https://www.ncdc.noaa.gov/cdo-web/api/v2/'\n",
        "        self.h = dict(token=token)\n",
        "\n",
        "    def poll_api(self, req_type, payload):\n",
        "        # Initiate http request - kwargs are constructed into a dict and passed as optional parameters\n",
        "        # Ex (limit=100, sortorder='desc', startdate='1970-10-03', etc)\n",
        "        r = requests.get(self.url + req_type, headers=self.h, params=payload)\n",
        "\n",
        "        if r.status_code != 200:  # Handle erroneous requests\n",
        "            print(\"Error: \" + str(r.status_code))\n",
        "        else:\n",
        "            r = r.json()\n",
        "            try:\n",
        "                return r['results']  # Most JSON results are nested under 'results' key\n",
        "            except KeyError:\n",
        "                return r  # for non-nested results, return the entire JSON string\n",
        "\n",
        "    # Fetch available datasets\n",
        "    # http://www.ncdc.noaa.gov/cdo-web/webservices/v2#datasets\n",
        "    def datasets(self, **kwargs):\n",
        "        req_type = 'datasets'\n",
        "        return self.poll_api(req_type, kwargs)\n",
        "\n",
        "    # Fetch data categories\n",
        "    # http://www.ncdc.noaa.gov/cdo-web/webservices/v2#dataCategories\n",
        "    def data_categories(self, **kwargs):\n",
        "        req_type = 'datacategories'\n",
        "        return self.poll_api(req_type, kwargs)\n",
        "\n",
        "    # Fetch data types\n",
        "    # http://www.ncdc.noaa.gov/cdo-web/webservices/v2#dataTypes\n",
        "    def data_types(self, **kwargs):\n",
        "        req_type = 'datatypes'\n",
        "        return self.poll_api(req_type, kwargs)\n",
        "\n",
        "    # Fetch available location categories\n",
        "    # http://www.ncdc.noaa.gov/cdo-web/webservices/v2#locationCategories\n",
        "    def location_categories(self, **kwargs):\n",
        "        req_type = 'locationcategories'\n",
        "        return self.poll_api(req_type, kwargs)\n",
        "\n",
        "    # Fetch all available locations\n",
        "    # http://www.ncdc.noaa.gov/cdo-web/webservices/v2#locations\n",
        "    def locations(self, **kwargs):\n",
        "        req_type = 'locations'\n",
        "        return self.poll_api(req_type, kwargs)\n",
        "\n",
        "    # Fetch All available stations\n",
        "    # http://www.ncdc.noaa.gov/cdo-web/webservices/v2#stations\n",
        "    def stations(self, h, p, **kwargs):\n",
        "        req_type = 'stations'\n",
        "        return self.poll_api(req_type, kwargs)\n",
        "\n",
        "    # Fetch information about specific dataset\n",
        "    def dataset_spec(self, set_code, **kwargs):\n",
        "        req_type = 'datacategories/' + set_code\n",
        "        return self.poll_api(req_type, kwargs)\n",
        "\n",
        "    # Fetch data\n",
        "    # http://www.ncdc.noaa.gov/cdo-web/webservices/v2#data\n",
        "    def fetch_data(self, **kwargs):\n",
        "        req_type = 'data'\n",
        "        return self.poll_api(req_type, kwargs)"
      ]
    }
  ],
  "metadata": {
    "colab": {
      "name": "weather_scraper.ipynb",
      "provenance": []
    },
    "language_info": {
      "name": "python"
    },
    "kernelspec": {
      "name": "python3",
      "display_name": "Python 3"
    },
    "gpuClass": "standard"
  },
  "nbformat": 4,
  "nbformat_minor": 0
}